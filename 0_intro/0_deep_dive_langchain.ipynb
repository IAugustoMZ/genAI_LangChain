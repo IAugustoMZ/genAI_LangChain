{
 "cells": [
  {
   "cell_type": "markdown",
   "metadata": {},
   "source": [
    "# Deep Dive into LangChain"
   ]
  },
  {
   "cell_type": "code",
   "execution_count": 32,
   "metadata": {},
   "outputs": [
    {
     "data": {
      "text/plain": [
       "True"
      ]
     },
     "execution_count": 32,
     "metadata": {},
     "output_type": "execute_result"
    }
   ],
   "source": [
    "# test the load of the environment\n",
    "import os\n",
    "from dotenv import load_dotenv\n",
    "from langchain_openai import ChatOpenAI\n",
    "from langchain.globals import set_llm_cache\n",
    "from langchain.cache import InMemoryCache, SQLiteCache\n",
    "from langchain.schema import HumanMessage, AIMessage, SystemMessage\n",
    "\n",
    "# set path\n",
    "PATH = os.path.join('../', 'env', '.env')\n",
    "\n",
    "# find the dot env file\n",
    "load_dotenv(PATH, override=True)\n",
    "\n",
    "# get the environment variables\n",
    "# os.environ.get('OPENAI_API_KEY')"
   ]
  },
  {
   "cell_type": "markdown",
   "metadata": {},
   "source": [
    "# Model Interaction"
   ]
  },
  {
   "cell_type": "code",
   "execution_count": 22,
   "metadata": {},
   "outputs": [],
   "source": [
    "# interacting with the openai api\n",
    "llm = ChatOpenAI()\n",
    "output = llm.invoke('What is the meaning of life?')\n",
    "print(output.content)"
   ]
  },
  {
   "cell_type": "code",
   "execution_count": 25,
   "metadata": {},
   "outputs": [],
   "source": [
    "# create new messages\n",
    "messages = [\n",
    "    SystemMessage(content='You are a physicist and respond only in German'),\n",
    "    HumanMessage(content='Explain quantum mechanics in a single sentence')\n",
    "]\n",
    "\n",
    "output = llm.invoke(messages)\n",
    "print(output.content)"
   ]
  },
  {
   "cell_type": "markdown",
   "metadata": {},
   "source": [
    "# Caching LLMs\n",
    "\n",
    "## In-memory cache"
   ]
  },
  {
   "cell_type": "code",
   "execution_count": 24,
   "metadata": {},
   "outputs": [],
   "source": [
    "# setting in memory cache\n",
    "set_llm_cache(InMemoryCache())\n",
    "\n",
    "prompt = 'Explain quantum mechanics to a 6 year old child'"
   ]
  },
  {
   "cell_type": "code",
   "execution_count": 28,
   "metadata": {},
   "outputs": [
    {
     "name": "stdout",
     "output_type": "stream",
     "text": [
      "CPU times: total: 0 ns\n",
      "Wall time: 2.26 s\n"
     ]
    },
    {
     "data": {
      "text/plain": [
       "AIMessage(content=\"Quantum mechanics is like a magical way of understanding how things work in the tiniest parts of our world, like atoms and particles. It helps scientists figure out how things move and interact with each other in ways that are different from what we can see with our eyes. It's a bit like a puzzle that scientists are always trying to solve, and it helps us learn more about how everything in the universe fits together.\", response_metadata={'token_usage': {'completion_tokens': 85, 'prompt_tokens': 18, 'total_tokens': 103}, 'model_name': 'gpt-3.5-turbo', 'system_fingerprint': None, 'finish_reason': 'stop', 'logprobs': None}, id='run-5bf855ba-cac7-4b34-a8cd-cc5afb8565b9-0')"
      ]
     },
     "execution_count": 28,
     "metadata": {},
     "output_type": "execute_result"
    }
   ],
   "source": [
    "%%time\n",
    "# test the first call\n",
    "llm.invoke(prompt)"
   ]
  },
  {
   "cell_type": "code",
   "execution_count": 30,
   "metadata": {},
   "outputs": [
    {
     "name": "stdout",
     "output_type": "stream",
     "text": [
      "CPU times: total: 0 ns\n",
      "Wall time: 1 ms\n"
     ]
    },
    {
     "data": {
      "text/plain": [
       "AIMessage(content=\"Quantum mechanics is like a magical way of understanding how things work in the tiniest parts of our world, like atoms and particles. It helps scientists figure out how things move and interact with each other in ways that are different from what we can see with our eyes. It's a bit like a puzzle that scientists are always trying to solve, and it helps us learn more about how everything in the universe fits together.\", response_metadata={'token_usage': {'completion_tokens': 85, 'prompt_tokens': 18, 'total_tokens': 103}, 'model_name': 'gpt-3.5-turbo', 'system_fingerprint': None, 'finish_reason': 'stop', 'logprobs': None}, id='run-5bf855ba-cac7-4b34-a8cd-cc5afb8565b9-0')"
      ]
     },
     "execution_count": 30,
     "metadata": {},
     "output_type": "execute_result"
    }
   ],
   "source": [
    "%%time\n",
    "# make the same request\n",
    "llm.invoke(prompt)"
   ]
  },
  {
   "cell_type": "markdown",
   "metadata": {},
   "source": [
    "# SQLite caching"
   ]
  },
  {
   "cell_type": "code",
   "execution_count": 33,
   "metadata": {},
   "outputs": [],
   "source": [
    "# set SQLit caching\n",
    "set_llm_cache(SQLiteCache(database_path='.langchain.db'))"
   ]
  },
  {
   "cell_type": "code",
   "execution_count": 34,
   "metadata": {},
   "outputs": [
    {
     "name": "stdout",
     "output_type": "stream",
     "text": [
      "CPU times: total: 15.6 ms\n",
      "Wall time: 2.17 s\n"
     ]
    },
    {
     "data": {
      "text/plain": [
       "AIMessage(content=\"Dark matter is something that scientists believe is all around us in space, but we can't see it because it doesn't give off any light. It's kind of like an invisible friend that helps hold everything in the universe together, like the stars and planets. We can't see it or touch it, but we know it's there because of how it affects things around it.\", response_metadata={'token_usage': {'completion_tokens': 76, 'prompt_tokens': 18, 'total_tokens': 94}, 'model_name': 'gpt-3.5-turbo', 'system_fingerprint': None, 'finish_reason': 'stop', 'logprobs': None}, id='run-f693b940-dece-46ff-b76e-b90cc7bd1fdb-0')"
      ]
     },
     "execution_count": 34,
     "metadata": {},
     "output_type": "execute_result"
    }
   ],
   "source": [
    "%%time\n",
    "prompt = 'Explain dark matter to a 6 year old child'\n",
    "llm.invoke(prompt)"
   ]
  },
  {
   "cell_type": "code",
   "execution_count": 35,
   "metadata": {},
   "outputs": [
    {
     "name": "stdout",
     "output_type": "stream",
     "text": [
      "CPU times: total: 0 ns\n",
      "Wall time: 2 ms\n"
     ]
    },
    {
     "data": {
      "text/plain": [
       "AIMessage(content=\"Dark matter is something that scientists believe is all around us in space, but we can't see it because it doesn't give off any light. It's kind of like an invisible friend that helps hold everything in the universe together, like the stars and planets. We can't see it or touch it, but we know it's there because of how it affects things around it.\", response_metadata={'token_usage': {'completion_tokens': 76, 'prompt_tokens': 18, 'total_tokens': 94}, 'model_name': 'gpt-3.5-turbo', 'system_fingerprint': None, 'finish_reason': 'stop', 'logprobs': None}, id='run-f693b940-dece-46ff-b76e-b90cc7bd1fdb-0')"
      ]
     },
     "execution_count": 35,
     "metadata": {},
     "output_type": "execute_result"
    }
   ],
   "source": [
    "%%time\n",
    "prompt = 'Explain dark matter to a 6 year old child'\n",
    "llm.invoke(prompt)"
   ]
  }
 ],
 "metadata": {
  "kernelspec": {
   "display_name": "langChainEnv",
   "language": "python",
   "name": "python3"
  },
  "language_info": {
   "codemirror_mode": {
    "name": "ipython",
    "version": 3
   },
   "file_extension": ".py",
   "mimetype": "text/x-python",
   "name": "python",
   "nbconvert_exporter": "python",
   "pygments_lexer": "ipython3",
   "version": "3.11.9"
  }
 },
 "nbformat": 4,
 "nbformat_minor": 2
}
